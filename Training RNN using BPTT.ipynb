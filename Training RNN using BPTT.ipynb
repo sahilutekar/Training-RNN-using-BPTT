{
  "nbformat": 4,
  "nbformat_minor": 0,
  "metadata": {
    "colab": {
      "name": "sahil_Assignment 10.ipynb",
      "provenance": [],
      "collapsed_sections": []
    },
    "kernelspec": {
      "name": "python3",
      "display_name": "Python 3"
    }
  },
  "cells": [
    {
      "cell_type": "markdown",
      "metadata": {
        "id": "mHjEwJl01xE_",
        "colab_type": "text"
      },
      "source": [
        "### Training a single recurrent neuron"
      ]
    },
    {
      "cell_type": "markdown",
      "metadata": {
        "id": "whuS7vSS12MP",
        "colab_type": "text"
      },
      "source": [
        "We define a recurrent neuron as follows: <br>\n",
        "$y_{t+1} = 0.5y_t + 0.5x_t$"
      ]
    },
    {
      "cell_type": "markdown",
      "metadata": {
        "id": "1QZuQZ8Y2MGr",
        "colab_type": "text"
      },
      "source": [
        "### Generate Data\n",
        "Start with $y_0$ = $0$ <br>\n",
        "Generate a series of random numbers $+1/-1$ with $50/50$ probability. This will constitute our input at each time step ($x_t$)"
      ]
    },
    {
      "cell_type": "code",
      "metadata": {
        "id": "4KxA7SCO062E",
        "colab_type": "code",
        "colab": {}
      },
      "source": [
        "def generate_inputs(n):\n",
        "  \"\"\"\n",
        "  Inputs:\n",
        "    n: int\n",
        "\n",
        "  Outputs: \n",
        "    x_t : list of length n with either +1 or -1 generated randomly with 50/50 probability\n",
        "  \"\"\"\n",
        "  ## x_t = np.array([1 if np.random.rand(1) > 0.5 else -1 for i in range(n)]) ## list comprehension\n",
        "  x_t = []\n",
        "  for i in range(n):\n",
        "    if(np.random.uniform() > 0.5):\n",
        "      x_t.append(1)\n",
        "    else:\n",
        "      x_t.append(-1)\n",
        "  \n",
        "  return np.array(x_t)"
      ],
      "execution_count": null,
      "outputs": []
    },
    {
      "cell_type": "code",
      "metadata": {
        "id": "_9Jo5tPm7S0G",
        "colab_type": "code",
        "colab": {}
      },
      "source": [
        "def generate_outputs(x_t):\n",
        "  \"\"\"\n",
        "  Inputs:\n",
        "    x_t: list of length n with inputs to recurrent neuron\n",
        "\n",
        "  Outputs:\n",
        "    y_t : list of length n+1 with outputs generated using our definition of recurrent neuron \n",
        "  \"\"\"\n",
        "  ### Write your code here\n",
        "  y_t = [0]\n",
        "  for i in range(1, x_t.shape[0] + 1):\n",
        "    y_t.append(0.5*y_t[i-1] + 0.5*x_t[i-1])\n",
        "  return np.array(y_t)"
      ],
      "execution_count": null,
      "outputs": []
    },
    {
      "cell_type": "markdown",
      "metadata": {
        "id": "nyDMlVkK7yMR",
        "colab_type": "text"
      },
      "source": [
        "### Training using BPTT\n",
        "Write the train function that takes $y_t$ and $x_t$, starts with random values of $w$ and $g$ where \n",
        "$$\n",
        "y_{t+1} = wx_{t} + gy_t\n",
        "$$\n",
        "and trains using BPTT to find values of $w$ and $g$"
      ]
    },
    {
      "cell_type": "code",
      "metadata": {
        "id": "37MeIOak80R3",
        "colab_type": "code",
        "colab": {}
      },
      "source": [
        "def train_bptt(x_t, y_t, time_steps, epochs, w_his = None, g_his = None):\n",
        "  \"\"\"\n",
        "  Inputs:\n",
        "    x_t: list of length n with inputs to recurrent neuron\n",
        "    y_t: list of length n+1 with outputs\n",
        "    time_steps: int, number of timesteps to roll the rnn and do bptt\n",
        "    epochs: number of epochs to train the rnn for\n",
        "  \n",
        "  Outputs:\n",
        "    w, g: trained parameters of the model\n",
        "  \"\"\"\n",
        "  ### Write your code here\n",
        "  if(w_his == None):\n",
        "    w_his = [np.random.rand(1)*0.01]\n",
        "    g_his = [np.random.rand(1)*0.01] \n",
        "\n",
        "  y = [0]\n",
        "  eta = 0.1\n",
        "\n",
        "  for e in range(epochs):\n",
        "    y = [0]\n",
        "    for i in range(0, x_t.shape[0], time_steps):\n",
        "    \n",
        "      ts = min(x_t.shape[0] - i, time_steps)\n",
        "      w = w_his[-1]\n",
        "      g = g_his[-1]\n",
        "      dy = [0]\n",
        "      dyhat = np.zeros(ts + 1)\n",
        "      dw = 0\n",
        "      dg = 0\n",
        "\n",
        "      ## Forward pass\n",
        "      for t in range(i, i+ts):  ## I had used range(i+ts) earlier, but this works as well\n",
        "        y.append(w*x_t[t] + g*y[t])\n",
        "      \n",
        "\n",
        "      ## Backward pass\n",
        "      for j in range(ts):\n",
        "        ## dy is gradient directly coming from error at a particular timestep\n",
        "        ## E = 1/2(y - yd)^2 , so dy = dE/dy = y - yd\n",
        "        dy.append(y[i+j+1]-y_t[i+j+1])\n",
        "      \n",
        "      for j in range(ts - 1, 0, -1):\n",
        "        ## dyhat is gradient to y_t coming from dy_t+1 \n",
        "        dyhat[j] = g*(dyhat[j+1] + dy[j+1])\n",
        "        dw += x_t[i+j]*(dyhat[j+1] + dy[j+1])\n",
        "        dg += y[i+j]*(dyhat[j+1] + dy[j+1]) \n",
        "      \n",
        "      w_his.append(w - eta*dw)\n",
        "      g_his.append(g - eta*dg)\n",
        "  \n",
        "  return w_his, g_his\n",
        "  "
      ],
      "execution_count": null,
      "outputs": []
    }
  ]
}